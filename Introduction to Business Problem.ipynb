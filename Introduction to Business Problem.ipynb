{
 "cells": [
  {
   "cell_type": "markdown",
   "metadata": {},
   "source": [
    "# Capstone Project - The Battle of Neighbourhoods (Part-1)\n"
   ]
  },
  {
   "cell_type": "markdown",
   "metadata": {},
   "source": [
    "## Introduction"
   ]
  },
  {
   "cell_type": "markdown",
   "metadata": {},
   "source": [
    "New York City's demographics show that it is a large and ethnically diverse metropolis. It is\n",
    "the largest city in the United States with a long history of international immigration. New York\n",
    "City was home to nearly 8.5 million people in 2014, accounting for over 40% of the population\n",
    "of New York State and a slightly lower percentage of the New York metropolitan area, home\n",
    "to approximately 23.6 million. Over the last decade the city has been growing faster than the\n",
    "region. The New York region continues to be by far the leading metropolitan gateway for legal\n",
    "immigrants admitted into the United States.\n",
    "New York City has also been a major point of entry for immigrants; the term \"melting pot\"\n",
    "was coined to describe densely populated immigrant neighbourhoods on the Lower East Side.\n",
    "As many as 800 languages are spoken in New York, making it the most linguistically diverse\n",
    "city in the world. English remains the most widely spoken language, although there are areas\n",
    "in the outer boroughs in which up to 25% of people speak English as an alternate language,\n",
    "and/or have limited or no English language fluency. English is least spoken in neighbourhoods\n",
    "such as Flushing, Sunset Park, and Corona.\n",
    "With its diverse culture, comes diverse food items. There are many restaurants in New York\n",
    "City, each belonging to different categories like Chinese, Indian, and French etc."
   ]
  },
  {
   "cell_type": "markdown",
   "metadata": {},
   "source": [
    "## Problem "
   ]
  },
  {
   "cell_type": "markdown",
   "metadata": {},
   "source": [
    "To find the answers to the following questions:\n",
    "- List and visualize all major parts of New York City that has great Indian restaurants.\n",
    "- what is best location in New York City for Indian Cuisine?\n",
    "- which areas have potential Indian Restaurant Market?\n",
    "- which all areas lack Indian Restaurants?\n",
    "- which is the best place to stay if you prefer Indian Cuisine?"
   ]
  },
  {
   "cell_type": "code",
   "execution_count": null,
   "metadata": {},
   "outputs": [],
   "source": []
  }
 ],
 "metadata": {
  "kernelspec": {
   "display_name": "Python 3",
   "language": "python",
   "name": "python3"
  },
  "language_info": {
   "codemirror_mode": {
    "name": "ipython",
    "version": 3
   },
   "file_extension": ".py",
   "mimetype": "text/x-python",
   "name": "python",
   "nbconvert_exporter": "python",
   "pygments_lexer": "ipython3",
   "version": "3.7.3"
  }
 },
 "nbformat": 4,
 "nbformat_minor": 4
}
